{
 "cells": [
  {
   "cell_type": "code",
   "execution_count": 1,
   "id": "0c3aa3e1",
   "metadata": {
    "_cell_guid": "b1076dfc-b9ad-4769-8c92-a6c4dae69d19",
    "_uuid": "8f2839f25d086af736a60e9eeb907d3b93b6e0e5",
    "execution": {
     "iopub.execute_input": "2024-03-29T06:35:58.015731Z",
     "iopub.status.busy": "2024-03-29T06:35:58.015449Z",
     "iopub.status.idle": "2024-03-29T06:35:58.726396Z",
     "shell.execute_reply": "2024-03-29T06:35:58.725300Z"
    },
    "papermill": {
     "duration": 0.719351,
     "end_time": "2024-03-29T06:35:58.728518",
     "exception": false,
     "start_time": "2024-03-29T06:35:58.009167",
     "status": "completed"
    },
    "tags": []
   },
   "outputs": [
    {
     "name": "stdout",
     "output_type": "stream",
     "text": [
      "/kaggle/input/selectedmitbih/resized_data.h5\n",
      "/kaggle/input/selectedmitbih/test_dataset.h5\n"
     ]
    }
   ],
   "source": [
    "# This Python 3 environment comes with many helpful analytics libraries installed\n",
    "# It is defined by the kaggle/python Docker image: https://github.com/kaggle/docker-python\n",
    "# For example, here's several helpful packages to load\n",
    "\n",
    "import numpy as np # linear algebra\n",
    "import pandas as pd # data processing, CSV file I/O (e.g. pd.read_csv)\n",
    "\n",
    "# Input data files are available in the read-only \"../input/\" directory\n",
    "# For example, running this (by clicking run or pressing Shift+Enter) will list all files under the input directory\n",
    "\n",
    "import os\n",
    "for dirname, _, filenames in os.walk('/kaggle/input'):\n",
    "    for filename in filenames:\n",
    "        print(os.path.join(dirname, filename))\n",
    "\n",
    "# You can write up to 20GB to the current directory (/kaggle/working/) that gets preserved as output when you create a version using \"Save & Run All\" \n",
    "# You can also write temporary files to /kaggle/temp/, but they won't be saved outside of the current session"
   ]
  },
  {
   "cell_type": "code",
   "execution_count": 2,
   "id": "876eda59",
   "metadata": {
    "execution": {
     "iopub.execute_input": "2024-03-29T06:35:58.739951Z",
     "iopub.status.busy": "2024-03-29T06:35:58.739553Z",
     "iopub.status.idle": "2024-03-29T06:35:58.894583Z",
     "shell.execute_reply": "2024-03-29T06:35:58.893703Z"
    },
    "papermill": {
     "duration": 0.162813,
     "end_time": "2024-03-29T06:35:58.896599",
     "exception": false,
     "start_time": "2024-03-29T06:35:58.733786",
     "status": "completed"
    },
    "tags": []
   },
   "outputs": [],
   "source": [
    "import h5py\n",
    "import numpy as np"
   ]
  },
  {
   "cell_type": "code",
   "execution_count": 3,
   "id": "7b96af99",
   "metadata": {
    "execution": {
     "iopub.execute_input": "2024-03-29T06:35:58.907606Z",
     "iopub.status.busy": "2024-03-29T06:35:58.907343Z",
     "iopub.status.idle": "2024-03-29T06:36:15.067498Z",
     "shell.execute_reply": "2024-03-29T06:36:15.066525Z"
    },
    "papermill": {
     "duration": 16.168352,
     "end_time": "2024-03-29T06:36:15.069998",
     "exception": false,
     "start_time": "2024-03-29T06:35:58.901646",
     "status": "completed"
    },
    "tags": []
   },
   "outputs": [],
   "source": [
    "with h5py.File('/kaggle/input/selectedmitbih/resized_data.h5', 'r') as file:\n",
    "    train_data = file['resized_dataset']\n",
    "    train_labels = file['beat_type']\n",
    "    train_data = np.array(train_data)\n",
    "    train_labels = np.array(train_labels)\n"
   ]
  },
  {
   "cell_type": "code",
   "execution_count": 4,
   "id": "768f8ae4",
   "metadata": {
    "execution": {
     "iopub.execute_input": "2024-03-29T06:36:15.081290Z",
     "iopub.status.busy": "2024-03-29T06:36:15.080969Z",
     "iopub.status.idle": "2024-03-29T06:36:28.077160Z",
     "shell.execute_reply": "2024-03-29T06:36:28.076189Z"
    },
    "papermill": {
     "duration": 13.004372,
     "end_time": "2024-03-29T06:36:28.079559",
     "exception": false,
     "start_time": "2024-03-29T06:36:15.075187",
     "status": "completed"
    },
    "tags": []
   },
   "outputs": [
    {
     "name": "stderr",
     "output_type": "stream",
     "text": [
      "2024-03-29 06:36:18.023326: E external/local_xla/xla/stream_executor/cuda/cuda_dnn.cc:9261] Unable to register cuDNN factory: Attempting to register factory for plugin cuDNN when one has already been registered\n",
      "2024-03-29 06:36:18.023435: E external/local_xla/xla/stream_executor/cuda/cuda_fft.cc:607] Unable to register cuFFT factory: Attempting to register factory for plugin cuFFT when one has already been registered\n",
      "2024-03-29 06:36:18.173375: E external/local_xla/xla/stream_executor/cuda/cuda_blas.cc:1515] Unable to register cuBLAS factory: Attempting to register factory for plugin cuBLAS when one has already been registered\n"
     ]
    }
   ],
   "source": [
    "from sklearn.model_selection import train_test_split\n",
    "import tensorflow as tf\n",
    "from tensorflow.keras.layers import Dense\n",
    "from tensorflow.keras.models import Model\n",
    "from tensorflow.keras.applications import ResNet50\n",
    "import numpy as np\n",
    "from tensorflow.keras.optimizers import Adam\n",
    "from imblearn.over_sampling import RandomOverSampler\n",
    "from tensorflow.keras.utils import to_categorical\n",
    "from tensorflow.keras.callbacks import ReduceLROnPlateau, EarlyStopping\n"
   ]
  },
  {
   "cell_type": "code",
   "execution_count": 5,
   "id": "0357481c",
   "metadata": {
    "execution": {
     "iopub.execute_input": "2024-03-29T06:36:28.091086Z",
     "iopub.status.busy": "2024-03-29T06:36:28.090546Z",
     "iopub.status.idle": "2024-03-29T06:36:33.323734Z",
     "shell.execute_reply": "2024-03-29T06:36:33.322814Z"
    },
    "papermill": {
     "duration": 5.241223,
     "end_time": "2024-03-29T06:36:33.325958",
     "exception": false,
     "start_time": "2024-03-29T06:36:28.084735",
     "status": "completed"
    },
    "tags": []
   },
   "outputs": [
    {
     "name": "stdout",
     "output_type": "stream",
     "text": [
      "Downloading data from https://storage.googleapis.com/tensorflow/keras-applications/resnet/resnet50_weights_tf_dim_ordering_tf_kernels_notop.h5\n",
      "\u001b[1m94765736/94765736\u001b[0m \u001b[32m━━━━━━━━━━━━━━━━━━━━\u001b[0m\u001b[37m\u001b[0m \u001b[1m0s\u001b[0m 0us/step\n"
     ]
    }
   ],
   "source": [
    "ros = RandomOverSampler()\n",
    "train_data, train_labels = ros.fit_resample(train_data.reshape(-1, 224*224*3), train_labels)\n",
    "train_data = train_data.reshape(-1, 224, 224, 3)\n",
    "\n",
    "# Split the data into train and validation sets\n",
    "train_data, val_data, train_labels, val_labels = train_test_split(train_data, train_labels, test_size=0.2, random_state=42)\n",
    "\n",
    "# Define the number of classes\n",
    "num_classes = 3\n",
    "train_labels = to_categorical(train_labels, num_classes=num_classes)\n",
    "val_labels =  to_categorical(val_labels, num_classes=num_classes)\n",
    "\n",
    "# Load pre-trained ResNet50 model with weights from ImageNet\n",
    "base_model = ResNet50(weights='imagenet', include_top=False, input_shape=(224, 224, 3))\n",
    "\n",
    "# Freeze the base model layers\n",
    "for layer in base_model.layers:\n",
    "    layer.trainable = True\n",
    "\n",
    "# Add new fully-connected layers\n",
    "x = base_model.output\n",
    "x = tf.keras.layers.GlobalAveragePooling2D()(x)  # Global average pooling to reduce dimensions\n",
    "x = Dense(1024, activation='relu')(x)  # Add new fully-connected layer\n",
    "x = Dense(512, activation='relu')(x)  # Add another fully-connected layer\n",
    "predictions = Dense(num_classes, activation='softmax')(x)  # Add softmax layer for classification\n",
    "\n",
    "model = Model(inputs=base_model.input, outputs=predictions)"
   ]
  },
  {
   "cell_type": "code",
   "execution_count": 6,
   "id": "266aef34",
   "metadata": {
    "execution": {
     "iopub.execute_input": "2024-03-29T06:36:33.339789Z",
     "iopub.status.busy": "2024-03-29T06:36:33.339470Z",
     "iopub.status.idle": "2024-03-29T06:37:23.954439Z",
     "shell.execute_reply": "2024-03-29T06:37:23.953570Z"
    },
    "papermill": {
     "duration": 50.624454,
     "end_time": "2024-03-29T06:37:23.956776",
     "exception": false,
     "start_time": "2024-03-29T06:36:33.332322",
     "status": "completed"
    },
    "tags": []
   },
   "outputs": [],
   "source": [
    "with h5py.File('/kaggle/input/selectedmitbih/test_dataset.h5', 'r') as file:\n",
    "    test_data = file['resized_dataset']\n",
    "    test_labels = file['beat_type']\n",
    "    test_data = np.array(test_data)\n",
    "    test_labels = np.array(test_labels)\n",
    "    \n",
    "test_labels = to_categorical(test_labels, num_classes=3)\n"
   ]
  },
  {
   "cell_type": "code",
   "execution_count": 7,
   "id": "1238f170",
   "metadata": {
    "execution": {
     "iopub.execute_input": "2024-03-29T06:37:23.970888Z",
     "iopub.status.busy": "2024-03-29T06:37:23.970136Z",
     "iopub.status.idle": "2024-03-29T08:03:37.337207Z",
     "shell.execute_reply": "2024-03-29T08:03:37.336195Z"
    },
    "papermill": {
     "duration": 5173.37666,
     "end_time": "2024-03-29T08:03:37.339690",
     "exception": false,
     "start_time": "2024-03-29T06:37:23.963030",
     "status": "completed"
    },
    "tags": []
   },
   "outputs": [
    {
     "name": "stdout",
     "output_type": "stream",
     "text": [
      "Epoch 1/40\n"
     ]
    },
    {
     "name": "stderr",
     "output_type": "stream",
     "text": [
      "WARNING: All log messages before absl::InitializeLog() is called are written to STDERR\n",
      "I0000 00:00:1711694315.691645      68 device_compiler.h:186] Compiled cluster using XLA!  This line is logged at most once for the lifetime of the process.\n"
     ]
    },
    {
     "name": "stdout",
     "output_type": "stream",
     "text": [
      "\u001b[1m416/416\u001b[0m \u001b[32m━━━━━━━━━━━━━━━━━━━━\u001b[0m\u001b[37m\u001b[0m \u001b[1m174s\u001b[0m 257ms/step - accuracy: 0.9442 - loss: 0.2211 - val_accuracy: 0.9738 - val_loss: 0.3196 - learning_rate: 0.0010\n",
      "Epoch 2/40\n",
      "\u001b[1m416/416\u001b[0m \u001b[32m━━━━━━━━━━━━━━━━━━━━\u001b[0m\u001b[37m\u001b[0m \u001b[1m67s\u001b[0m 160ms/step - accuracy: 0.9958 - loss: 0.0155 - val_accuracy: 0.9744 - val_loss: 0.1146 - learning_rate: 0.0010\n",
      "Epoch 3/40\n",
      "\u001b[1m416/416\u001b[0m \u001b[32m━━━━━━━━━━━━━━━━━━━━\u001b[0m\u001b[37m\u001b[0m \u001b[1m65s\u001b[0m 155ms/step - accuracy: 0.9950 - loss: 0.0269 - val_accuracy: 0.7616 - val_loss: 0.6367 - learning_rate: 0.0010\n",
      "Epoch 4/40\n",
      "\u001b[1m416/416\u001b[0m \u001b[32m━━━━━━━━━━━━━━━━━━━━\u001b[0m\u001b[37m\u001b[0m \u001b[1m65s\u001b[0m 157ms/step - accuracy: 0.9947 - loss: 0.0209 - val_accuracy: 0.9708 - val_loss: 0.1968 - learning_rate: 0.0010\n",
      "Epoch 5/40\n",
      "\u001b[1m416/416\u001b[0m \u001b[32m━━━━━━━━━━━━━━━━━━━━\u001b[0m\u001b[37m\u001b[0m \u001b[1m67s\u001b[0m 161ms/step - accuracy: 0.9970 - loss: 0.0089 - val_accuracy: 0.9964 - val_loss: 0.0233 - learning_rate: 2.0000e-04\n",
      "Epoch 6/40\n",
      "\u001b[1m416/416\u001b[0m \u001b[32m━━━━━━━━━━━━━━━━━━━━\u001b[0m\u001b[37m\u001b[0m \u001b[1m66s\u001b[0m 160ms/step - accuracy: 0.9989 - loss: 0.0029 - val_accuracy: 0.9961 - val_loss: 0.0203 - learning_rate: 2.0000e-04\n",
      "Epoch 7/40\n",
      "\u001b[1m416/416\u001b[0m \u001b[32m━━━━━━━━━━━━━━━━━━━━\u001b[0m\u001b[37m\u001b[0m \u001b[1m65s\u001b[0m 155ms/step - accuracy: 0.9992 - loss: 0.0029 - val_accuracy: 0.9964 - val_loss: 0.0233 - learning_rate: 2.0000e-04\n",
      "Epoch 8/40\n",
      "\u001b[1m416/416\u001b[0m \u001b[32m━━━━━━━━━━━━━━━━━━━━\u001b[0m\u001b[37m\u001b[0m \u001b[1m65s\u001b[0m 155ms/step - accuracy: 0.9993 - loss: 0.0028 - val_accuracy: 0.9958 - val_loss: 0.0243 - learning_rate: 2.0000e-04\n",
      "Epoch 9/40\n",
      "\u001b[1m416/416\u001b[0m \u001b[32m━━━━━━━━━━━━━━━━━━━━\u001b[0m\u001b[37m\u001b[0m \u001b[1m65s\u001b[0m 157ms/step - accuracy: 0.9998 - loss: 0.0011 - val_accuracy: 0.9967 - val_loss: 0.0231 - learning_rate: 4.0000e-05\n",
      "Epoch 10/40\n",
      "\u001b[1m416/416\u001b[0m \u001b[32m━━━━━━━━━━━━━━━━━━━━\u001b[0m\u001b[37m\u001b[0m \u001b[1m65s\u001b[0m 157ms/step - accuracy: 0.9996 - loss: 0.0011 - val_accuracy: 0.9970 - val_loss: 0.0247 - learning_rate: 4.0000e-05\n",
      "Epoch 11/40\n",
      "\u001b[1m416/416\u001b[0m \u001b[32m━━━━━━━━━━━━━━━━━━━━\u001b[0m\u001b[37m\u001b[0m \u001b[1m65s\u001b[0m 157ms/step - accuracy: 1.0000 - loss: 6.3048e-04 - val_accuracy: 0.9970 - val_loss: 0.0242 - learning_rate: 8.0000e-06\n",
      "Epoch 11: early stopping\n",
      "Restoring model weights from the end of the best epoch: 6.\n",
      "\u001b[1m104/104\u001b[0m \u001b[32m━━━━━━━━━━━━━━━━━━━━\u001b[0m\u001b[37m\u001b[0m \u001b[1m5s\u001b[0m 43ms/step - accuracy: 0.9971 - loss: 0.0142\n",
      "\u001b[1m1104/1104\u001b[0m \u001b[32m━━━━━━━━━━━━━━━━━━━━\u001b[0m\u001b[37m\u001b[0m \u001b[1m48s\u001b[0m 40ms/step\n",
      "prediction complete\n",
      "Epoch 1/40\n",
      "\u001b[1m416/416\u001b[0m \u001b[32m━━━━━━━━━━━━━━━━━━━━\u001b[0m\u001b[37m\u001b[0m \u001b[1m107s\u001b[0m 197ms/step - accuracy: 0.9990 - loss: 0.0028 - val_accuracy: 0.9961 - val_loss: 0.0212 - learning_rate: 0.0010\n",
      "Epoch 2/40\n",
      "\u001b[1m416/416\u001b[0m \u001b[32m━━━━━━━━━━━━━━━━━━━━\u001b[0m\u001b[37m\u001b[0m \u001b[1m62s\u001b[0m 148ms/step - accuracy: 0.9993 - loss: 0.0031 - val_accuracy: 0.9961 - val_loss: 0.0213 - learning_rate: 0.0010\n",
      "Epoch 3/40\n",
      "\u001b[1m416/416\u001b[0m \u001b[32m━━━━━━━━━━━━━━━━━━━━\u001b[0m\u001b[37m\u001b[0m \u001b[1m83s\u001b[0m 150ms/step - accuracy: 0.9995 - loss: 0.0021 - val_accuracy: 0.9961 - val_loss: 0.0209 - learning_rate: 0.0010\n",
      "Epoch 4/40\n",
      "\u001b[1m416/416\u001b[0m \u001b[32m━━━━━━━━━━━━━━━━━━━━\u001b[0m\u001b[37m\u001b[0m \u001b[1m81s\u001b[0m 149ms/step - accuracy: 0.9990 - loss: 0.0036 - val_accuracy: 0.9961 - val_loss: 0.0209 - learning_rate: 0.0010\n",
      "Epoch 5/40\n",
      "\u001b[1m416/416\u001b[0m \u001b[32m━━━━━━━━━━━━━━━━━━━━\u001b[0m\u001b[37m\u001b[0m \u001b[1m62s\u001b[0m 148ms/step - accuracy: 0.9990 - loss: 0.0031 - val_accuracy: 0.9961 - val_loss: 0.0212 - learning_rate: 0.0010\n",
      "Epoch 6/40\n",
      "\u001b[1m416/416\u001b[0m \u001b[32m━━━━━━━━━━━━━━━━━━━━\u001b[0m\u001b[37m\u001b[0m \u001b[1m62s\u001b[0m 148ms/step - accuracy: 0.9988 - loss: 0.0032 - val_accuracy: 0.9961 - val_loss: 0.0213 - learning_rate: 2.0000e-04\n",
      "Epoch 7/40\n",
      "\u001b[1m416/416\u001b[0m \u001b[32m━━━━━━━━━━━━━━━━━━━━\u001b[0m\u001b[37m\u001b[0m \u001b[1m62s\u001b[0m 148ms/step - accuracy: 0.9993 - loss: 0.0027 - val_accuracy: 0.9961 - val_loss: 0.0210 - learning_rate: 2.0000e-04\n",
      "Epoch 8/40\n",
      "\u001b[1m416/416\u001b[0m \u001b[32m━━━━━━━━━━━━━━━━━━━━\u001b[0m\u001b[37m\u001b[0m \u001b[1m63s\u001b[0m 150ms/step - accuracy: 0.9994 - loss: 0.0020 - val_accuracy: 0.9961 - val_loss: 0.0209 - learning_rate: 4.0000e-05\n",
      "Epoch 9/40\n",
      "\u001b[1m416/416\u001b[0m \u001b[32m━━━━━━━━━━━━━━━━━━━━\u001b[0m\u001b[37m\u001b[0m \u001b[1m62s\u001b[0m 149ms/step - accuracy: 0.9994 - loss: 0.0020 - val_accuracy: 0.9961 - val_loss: 0.0210 - learning_rate: 4.0000e-05\n",
      "Epoch 10/40\n",
      "\u001b[1m416/416\u001b[0m \u001b[32m━━━━━━━━━━━━━━━━━━━━\u001b[0m\u001b[37m\u001b[0m \u001b[1m62s\u001b[0m 149ms/step - accuracy: 0.9987 - loss: 0.0028 - val_accuracy: 0.9961 - val_loss: 0.0214 - learning_rate: 8.0000e-06\n",
      "Epoch 11/40\n",
      "\u001b[1m416/416\u001b[0m \u001b[32m━━━━━━━━━━━━━━━━━━━━\u001b[0m\u001b[37m\u001b[0m \u001b[1m62s\u001b[0m 149ms/step - accuracy: 0.9986 - loss: 0.0045 - val_accuracy: 0.9961 - val_loss: 0.0211 - learning_rate: 8.0000e-06\n",
      "Epoch 12/40\n",
      "\u001b[1m416/416\u001b[0m \u001b[32m━━━━━━━━━━━━━━━━━━━━\u001b[0m\u001b[37m\u001b[0m \u001b[1m62s\u001b[0m 149ms/step - accuracy: 0.9997 - loss: 0.0014 - val_accuracy: 0.9961 - val_loss: 0.0211 - learning_rate: 1.6000e-06\n",
      "Epoch 13/40\n",
      "\u001b[1m416/416\u001b[0m \u001b[32m━━━━━━━━━━━━━━━━━━━━\u001b[0m\u001b[37m\u001b[0m \u001b[1m62s\u001b[0m 148ms/step - accuracy: 0.9997 - loss: 0.0012 - val_accuracy: 0.9961 - val_loss: 0.0211 - learning_rate: 1.6000e-06\n",
      "Epoch 13: early stopping\n",
      "Restoring model weights from the end of the best epoch: 8.\n",
      "\u001b[1m104/104\u001b[0m \u001b[32m━━━━━━━━━━━━━━━━━━━━\u001b[0m\u001b[37m\u001b[0m \u001b[1m4s\u001b[0m 41ms/step - accuracy: 0.9971 - loss: 0.0148\n",
      "\u001b[1m1104/1104\u001b[0m \u001b[32m━━━━━━━━━━━━━━━━━━━━\u001b[0m\u001b[37m\u001b[0m \u001b[1m48s\u001b[0m 40ms/step\n",
      "prediction complete\n",
      "Epoch 1/40\n",
      "\u001b[1m416/416\u001b[0m \u001b[32m━━━━━━━━━━━━━━━━━━━━\u001b[0m\u001b[37m\u001b[0m \u001b[1m143s\u001b[0m 221ms/step - accuracy: 0.9219 - loss: 0.5024 - val_accuracy: 0.3443 - val_loss: 26267.6270 - learning_rate: 0.0100\n",
      "Epoch 2/40\n",
      "\u001b[1m416/416\u001b[0m \u001b[32m━━━━━━━━━━━━━━━━━━━━\u001b[0m\u001b[37m\u001b[0m \u001b[1m67s\u001b[0m 162ms/step - accuracy: 0.9560 - loss: 0.1754 - val_accuracy: 0.6539 - val_loss: 3.2247 - learning_rate: 0.0100\n",
      "Epoch 3/40\n",
      "\u001b[1m416/416\u001b[0m \u001b[32m━━━━━━━━━━━━━━━━━━━━\u001b[0m\u001b[37m\u001b[0m \u001b[1m66s\u001b[0m 158ms/step - accuracy: 0.9876 - loss: 0.0493 - val_accuracy: 0.9534 - val_loss: 8.6149 - learning_rate: 0.0100\n",
      "Epoch 4/40\n",
      "\u001b[1m416/416\u001b[0m \u001b[32m━━━━━━━━━━━━━━━━━━━━\u001b[0m\u001b[37m\u001b[0m \u001b[1m68s\u001b[0m 162ms/step - accuracy: 0.9860 - loss: 0.0512 - val_accuracy: 0.9805 - val_loss: 0.0825 - learning_rate: 0.0100\n",
      "Epoch 5/40\n",
      "\u001b[1m416/416\u001b[0m \u001b[32m━━━━━━━━━━━━━━━━━━━━\u001b[0m\u001b[37m\u001b[0m \u001b[1m66s\u001b[0m 158ms/step - accuracy: 0.9855 - loss: 0.0497 - val_accuracy: 0.9558 - val_loss: 0.1487 - learning_rate: 0.0100\n",
      "Epoch 6/40\n",
      "\u001b[1m416/416\u001b[0m \u001b[32m━━━━━━━━━━━━━━━━━━━━\u001b[0m\u001b[37m\u001b[0m \u001b[1m67s\u001b[0m 162ms/step - accuracy: 0.9900 - loss: 0.0337 - val_accuracy: 0.9895 - val_loss: 0.0627 - learning_rate: 0.0100\n",
      "Epoch 7/40\n",
      "\u001b[1m416/416\u001b[0m \u001b[32m━━━━━━━━━━━━━━━━━━━━\u001b[0m\u001b[37m\u001b[0m \u001b[1m81s\u001b[0m 159ms/step - accuracy: 0.9816 - loss: 0.1500 - val_accuracy: 0.9609 - val_loss: 0.1794 - learning_rate: 0.0100\n",
      "Epoch 8/40\n",
      "\u001b[1m416/416\u001b[0m \u001b[32m━━━━━━━━━━━━━━━━━━━━\u001b[0m\u001b[37m\u001b[0m \u001b[1m66s\u001b[0m 158ms/step - accuracy: 0.9706 - loss: 0.1285 - val_accuracy: 0.9417 - val_loss: 0.2047 - learning_rate: 0.0100\n",
      "Epoch 9/40\n",
      "\u001b[1m416/416\u001b[0m \u001b[32m━━━━━━━━━━━━━━━━━━━━\u001b[0m\u001b[37m\u001b[0m \u001b[1m65s\u001b[0m 157ms/step - accuracy: 0.9847 - loss: 0.0510 - val_accuracy: 0.9808 - val_loss: 0.0659 - learning_rate: 0.0020\n",
      "Epoch 10/40\n",
      "\u001b[1m416/416\u001b[0m \u001b[32m━━━━━━━━━━━━━━━━━━━━\u001b[0m\u001b[37m\u001b[0m \u001b[1m67s\u001b[0m 161ms/step - accuracy: 0.9862 - loss: 0.0371 - val_accuracy: 0.9784 - val_loss: 0.0607 - learning_rate: 0.0020\n",
      "Epoch 11/40\n",
      "\u001b[1m416/416\u001b[0m \u001b[32m━━━━━━━━━━━━━━━━━━━━\u001b[0m\u001b[37m\u001b[0m \u001b[1m67s\u001b[0m 161ms/step - accuracy: 0.9890 - loss: 0.0301 - val_accuracy: 0.9886 - val_loss: 0.0499 - learning_rate: 0.0020\n",
      "Epoch 12/40\n",
      "\u001b[1m416/416\u001b[0m \u001b[32m━━━━━━━━━━━━━━━━━━━━\u001b[0m\u001b[37m\u001b[0m \u001b[1m81s\u001b[0m 159ms/step - accuracy: 0.9920 - loss: 0.0248 - val_accuracy: 0.9886 - val_loss: 0.0565 - learning_rate: 0.0020\n",
      "Epoch 13/40\n",
      "\u001b[1m416/416\u001b[0m \u001b[32m━━━━━━━━━━━━━━━━━━━━\u001b[0m\u001b[37m\u001b[0m \u001b[1m67s\u001b[0m 162ms/step - accuracy: 0.9952 - loss: 0.0183 - val_accuracy: 0.9934 - val_loss: 0.0371 - learning_rate: 0.0020\n",
      "Epoch 14/40\n",
      "\u001b[1m416/416\u001b[0m \u001b[32m━━━━━━━━━━━━━━━━━━━━\u001b[0m\u001b[37m\u001b[0m \u001b[1m66s\u001b[0m 158ms/step - accuracy: 0.9943 - loss: 0.0157 - val_accuracy: 0.9943 - val_loss: 0.0468 - learning_rate: 0.0020\n",
      "Epoch 15/40\n",
      "\u001b[1m416/416\u001b[0m \u001b[32m━━━━━━━━━━━━━━━━━━━━\u001b[0m\u001b[37m\u001b[0m \u001b[1m66s\u001b[0m 158ms/step - accuracy: 0.9958 - loss: 0.0152 - val_accuracy: 0.9940 - val_loss: 0.0426 - learning_rate: 0.0020\n",
      "Epoch 16/40\n",
      "\u001b[1m416/416\u001b[0m \u001b[32m━━━━━━━━━━━━━━━━━━━━\u001b[0m\u001b[37m\u001b[0m \u001b[1m66s\u001b[0m 158ms/step - accuracy: 0.9979 - loss: 0.0079 - val_accuracy: 0.9952 - val_loss: 0.0395 - learning_rate: 4.0000e-04\n",
      "Epoch 17/40\n",
      "\u001b[1m416/416\u001b[0m \u001b[32m━━━━━━━━━━━━━━━━━━━━\u001b[0m\u001b[37m\u001b[0m \u001b[1m66s\u001b[0m 158ms/step - accuracy: 0.9980 - loss: 0.0104 - val_accuracy: 0.9955 - val_loss: 0.0402 - learning_rate: 4.0000e-04\n",
      "Epoch 18/40\n",
      "\u001b[1m416/416\u001b[0m \u001b[32m━━━━━━━━━━━━━━━━━━━━\u001b[0m\u001b[37m\u001b[0m \u001b[1m82s\u001b[0m 158ms/step - accuracy: 0.9988 - loss: 0.0050 - val_accuracy: 0.9949 - val_loss: 0.0400 - learning_rate: 8.0000e-05\n",
      "Epoch 18: early stopping\n",
      "Restoring model weights from the end of the best epoch: 13.\n",
      "\u001b[1m104/104\u001b[0m \u001b[32m━━━━━━━━━━━━━━━━━━━━\u001b[0m\u001b[37m\u001b[0m \u001b[1m4s\u001b[0m 42ms/step - accuracy: 0.9944 - loss: 0.0358\n",
      "\u001b[1m1104/1104\u001b[0m \u001b[32m━━━━━━━━━━━━━━━━━━━━\u001b[0m\u001b[37m\u001b[0m \u001b[1m48s\u001b[0m 40ms/step\n",
      "prediction complete\n",
      "Epoch 1/40\n",
      "\u001b[1m416/416\u001b[0m \u001b[32m━━━━━━━━━━━━━━━━━━━━\u001b[0m\u001b[37m\u001b[0m \u001b[1m107s\u001b[0m 196ms/step - accuracy: 0.9941 - loss: 0.0190 - val_accuracy: 0.9940 - val_loss: 0.0381 - learning_rate: 0.0100\n",
      "Epoch 2/40\n",
      "\u001b[1m416/416\u001b[0m \u001b[32m━━━━━━━━━━━━━━━━━━━━\u001b[0m\u001b[37m\u001b[0m \u001b[1m62s\u001b[0m 150ms/step - accuracy: 0.9952 - loss: 0.0176 - val_accuracy: 0.9934 - val_loss: 0.0381 - learning_rate: 0.0100\n",
      "Epoch 3/40\n",
      "\u001b[1m416/416\u001b[0m \u001b[32m━━━━━━━━━━━━━━━━━━━━\u001b[0m\u001b[37m\u001b[0m \u001b[1m63s\u001b[0m 150ms/step - accuracy: 0.9950 - loss: 0.0163 - val_accuracy: 0.9937 - val_loss: 0.0386 - learning_rate: 0.0100\n",
      "Epoch 4/40\n",
      "\u001b[1m416/416\u001b[0m \u001b[32m━━━━━━━━━━━━━━━━━━━━\u001b[0m\u001b[37m\u001b[0m \u001b[1m62s\u001b[0m 150ms/step - accuracy: 0.9970 - loss: 0.0115 - val_accuracy: 0.9937 - val_loss: 0.0386 - learning_rate: 0.0020\n",
      "Epoch 5/40\n",
      "\u001b[1m416/416\u001b[0m \u001b[32m━━━━━━━━━━━━━━━━━━━━\u001b[0m\u001b[37m\u001b[0m \u001b[1m62s\u001b[0m 150ms/step - accuracy: 0.9960 - loss: 0.0132 - val_accuracy: 0.9943 - val_loss: 0.0386 - learning_rate: 0.0020\n",
      "Epoch 6/40\n",
      "\u001b[1m416/416\u001b[0m \u001b[32m━━━━━━━━━━━━━━━━━━━━\u001b[0m\u001b[37m\u001b[0m \u001b[1m62s\u001b[0m 150ms/step - accuracy: 0.9947 - loss: 0.0140 - val_accuracy: 0.9943 - val_loss: 0.0387 - learning_rate: 4.0000e-04\n",
      "Epoch 6: early stopping\n",
      "Restoring model weights from the end of the best epoch: 1.\n",
      "\u001b[1m104/104\u001b[0m \u001b[32m━━━━━━━━━━━━━━━━━━━━\u001b[0m\u001b[37m\u001b[0m \u001b[1m4s\u001b[0m 42ms/step - accuracy: 0.9950 - loss: 0.0369\n",
      "\u001b[1m1104/1104\u001b[0m \u001b[32m━━━━━━━━━━━━━━━━━━━━\u001b[0m\u001b[37m\u001b[0m \u001b[1m48s\u001b[0m 41ms/step\n",
      "prediction complete\n",
      "Epoch 1/40\n",
      "\u001b[1m416/416\u001b[0m \u001b[32m━━━━━━━━━━━━━━━━━━━━\u001b[0m\u001b[37m\u001b[0m \u001b[1m144s\u001b[0m 223ms/step - accuracy: 0.5586 - loss: 11.2328 - val_accuracy: 0.3307 - val_loss: 2.8922 - learning_rate: 0.1000\n",
      "Epoch 2/40\n",
      "\u001b[1m416/416\u001b[0m \u001b[32m━━━━━━━━━━━━━━━━━━━━\u001b[0m\u001b[37m\u001b[0m \u001b[1m68s\u001b[0m 162ms/step - accuracy: 0.3561 - loss: 4.8485 - val_accuracy: 0.3307 - val_loss: 1.0989 - learning_rate: 0.1000\n",
      "Epoch 3/40\n",
      "\u001b[1m416/416\u001b[0m \u001b[32m━━━━━━━━━━━━━━━━━━━━\u001b[0m\u001b[37m\u001b[0m \u001b[1m66s\u001b[0m 159ms/step - accuracy: 0.3302 - loss: 1.1055 - val_accuracy: 0.3307 - val_loss: 1.1011 - learning_rate: 0.1000\n",
      "Epoch 4/40\n",
      "\u001b[1m416/416\u001b[0m \u001b[32m━━━━━━━━━━━━━━━━━━━━\u001b[0m\u001b[37m\u001b[0m \u001b[1m66s\u001b[0m 158ms/step - accuracy: 0.3311 - loss: 1.1036 - val_accuracy: 0.3250 - val_loss: 1.1028 - learning_rate: 0.1000\n",
      "Epoch 5/40\n",
      "\u001b[1m416/416\u001b[0m \u001b[32m━━━━━━━━━━━━━━━━━━━━\u001b[0m\u001b[37m\u001b[0m \u001b[1m66s\u001b[0m 158ms/step - accuracy: 0.3335 - loss: 1.0996 - val_accuracy: 0.3250 - val_loss: 1.1013 - learning_rate: 0.0200\n",
      "Epoch 6/40\n",
      "\u001b[1m416/416\u001b[0m \u001b[32m━━━━━━━━━━━━━━━━━━━━\u001b[0m\u001b[37m\u001b[0m \u001b[1m66s\u001b[0m 158ms/step - accuracy: 0.3321 - loss: 1.0998 - val_accuracy: 0.3307 - val_loss: 1.1067 - learning_rate: 0.0200\n",
      "Epoch 7/40\n",
      "\u001b[1m416/416\u001b[0m \u001b[32m━━━━━━━━━━━━━━━━━━━━\u001b[0m\u001b[37m\u001b[0m \u001b[1m67s\u001b[0m 162ms/step - accuracy: 0.3372 - loss: 1.1000 - val_accuracy: 0.3443 - val_loss: 1.0984 - learning_rate: 0.0040\n",
      "Epoch 8/40\n",
      "\u001b[1m416/416\u001b[0m \u001b[32m━━━━━━━━━━━━━━━━━━━━\u001b[0m\u001b[37m\u001b[0m \u001b[1m66s\u001b[0m 158ms/step - accuracy: 0.3240 - loss: 1.0990 - val_accuracy: 0.3250 - val_loss: 1.0990 - learning_rate: 0.0040\n",
      "Epoch 9/40\n",
      "\u001b[1m416/416\u001b[0m \u001b[32m━━━━━━━━━━━━━━━━━━━━\u001b[0m\u001b[37m\u001b[0m \u001b[1m66s\u001b[0m 159ms/step - accuracy: 0.3373 - loss: 1.0988 - val_accuracy: 0.3250 - val_loss: 1.0989 - learning_rate: 0.0040\n",
      "Epoch 10/40\n",
      "\u001b[1m416/416\u001b[0m \u001b[32m━━━━━━━━━━━━━━━━━━━━\u001b[0m\u001b[37m\u001b[0m \u001b[1m66s\u001b[0m 158ms/step - accuracy: 0.3397 - loss: 1.0986 - val_accuracy: 0.3250 - val_loss: 1.0988 - learning_rate: 8.0000e-04\n",
      "Epoch 11/40\n",
      "\u001b[1m416/416\u001b[0m \u001b[32m━━━━━━━━━━━━━━━━━━━━\u001b[0m\u001b[37m\u001b[0m \u001b[1m66s\u001b[0m 158ms/step - accuracy: 0.3355 - loss: 1.0986 - val_accuracy: 0.3307 - val_loss: 1.0988 - learning_rate: 8.0000e-04\n",
      "Epoch 12/40\n",
      "\u001b[1m416/416\u001b[0m \u001b[32m━━━━━━━━━━━━━━━━━━━━\u001b[0m\u001b[37m\u001b[0m \u001b[1m66s\u001b[0m 158ms/step - accuracy: 0.3360 - loss: 1.0986 - val_accuracy: 0.3250 - val_loss: 1.0988 - learning_rate: 1.6000e-04\n",
      "Epoch 12: early stopping\n",
      "Restoring model weights from the end of the best epoch: 7.\n",
      "\u001b[1m104/104\u001b[0m \u001b[32m━━━━━━━━━━━━━━━━━━━━\u001b[0m\u001b[37m\u001b[0m \u001b[1m4s\u001b[0m 42ms/step - accuracy: 0.3488 - loss: 1.0982\n",
      "\u001b[1m1104/1104\u001b[0m \u001b[32m━━━━━━━━━━━━━━━━━━━━\u001b[0m\u001b[37m\u001b[0m \u001b[1m48s\u001b[0m 40ms/step\n",
      "prediction complete\n"
     ]
    },
    {
     "name": "stderr",
     "output_type": "stream",
     "text": [
      "/opt/conda/lib/python3.10/site-packages/sklearn/metrics/_classification.py:1344: UndefinedMetricWarning: Precision and F-score are ill-defined and being set to 0.0 in labels with no predicted samples. Use `zero_division` parameter to control this behavior.\n",
      "  _warn_prf(average, modifier, msg_start, len(result))\n",
      "/opt/conda/lib/python3.10/site-packages/sklearn/metrics/_classification.py:1344: UndefinedMetricWarning: Precision and F-score are ill-defined and being set to 0.0 in labels with no predicted samples. Use `zero_division` parameter to control this behavior.\n",
      "  _warn_prf(average, modifier, msg_start, len(result))\n",
      "/opt/conda/lib/python3.10/site-packages/sklearn/metrics/_classification.py:1344: UndefinedMetricWarning: Precision and F-score are ill-defined and being set to 0.0 in labels with no predicted samples. Use `zero_division` parameter to control this behavior.\n",
      "  _warn_prf(average, modifier, msg_start, len(result))\n"
     ]
    },
    {
     "name": "stdout",
     "output_type": "stream",
     "text": [
      "Epoch 1/40\n",
      "\u001b[1m416/416\u001b[0m \u001b[32m━━━━━━━━━━━━━━━━━━━━\u001b[0m\u001b[37m\u001b[0m \u001b[1m106s\u001b[0m 194ms/step - accuracy: 0.3289 - loss: 1.0993 - val_accuracy: 0.3307 - val_loss: 1.0986 - learning_rate: 0.1000\n",
      "Epoch 2/40\n",
      "\u001b[1m416/416\u001b[0m \u001b[32m━━━━━━━━━━━━━━━━━━━━\u001b[0m\u001b[37m\u001b[0m \u001b[1m62s\u001b[0m 149ms/step - accuracy: 0.3375 - loss: 1.0991 - val_accuracy: 0.3307 - val_loss: 1.0986 - learning_rate: 0.1000\n",
      "Epoch 3/40\n",
      "\u001b[1m416/416\u001b[0m \u001b[32m━━━━━━━━━━━━━━━━━━━━\u001b[0m\u001b[37m\u001b[0m \u001b[1m62s\u001b[0m 150ms/step - accuracy: 0.3346 - loss: 1.0992 - val_accuracy: 0.3250 - val_loss: 1.0989 - learning_rate: 0.1000\n",
      "Epoch 4/40\n",
      "\u001b[1m416/416\u001b[0m \u001b[32m━━━━━━━━━━━━━━━━━━━━\u001b[0m\u001b[37m\u001b[0m \u001b[1m62s\u001b[0m 149ms/step - accuracy: 0.3332 - loss: 1.0988 - val_accuracy: 0.3250 - val_loss: 1.0991 - learning_rate: 0.0200\n",
      "Epoch 5/40\n",
      "\u001b[1m416/416\u001b[0m \u001b[32m━━━━━━━━━━━━━━━━━━━━\u001b[0m\u001b[37m\u001b[0m \u001b[1m62s\u001b[0m 150ms/step - accuracy: 0.3361 - loss: 1.0988 - val_accuracy: 0.3250 - val_loss: 1.0990 - learning_rate: 0.0200\n",
      "Epoch 6/40\n",
      "\u001b[1m416/416\u001b[0m \u001b[32m━━━━━━━━━━━━━━━━━━━━\u001b[0m\u001b[37m\u001b[0m \u001b[1m62s\u001b[0m 149ms/step - accuracy: 0.3375 - loss: 1.0986 - val_accuracy: 0.3250 - val_loss: 1.0989 - learning_rate: 0.0040\n",
      "Epoch 6: early stopping\n",
      "Restoring model weights from the end of the best epoch: 1.\n",
      "\u001b[1m104/104\u001b[0m \u001b[32m━━━━━━━━━━━━━━━━━━━━\u001b[0m\u001b[37m\u001b[0m \u001b[1m4s\u001b[0m 42ms/step - accuracy: 0.3225 - loss: 1.0989\n",
      "\u001b[1m1104/1104\u001b[0m \u001b[32m━━━━━━━━━━━━━━━━━━━━\u001b[0m\u001b[37m\u001b[0m \u001b[1m48s\u001b[0m 40ms/step\n",
      "prediction complete\n"
     ]
    },
    {
     "name": "stderr",
     "output_type": "stream",
     "text": [
      "/opt/conda/lib/python3.10/site-packages/sklearn/metrics/_classification.py:1344: UndefinedMetricWarning: Precision and F-score are ill-defined and being set to 0.0 in labels with no predicted samples. Use `zero_division` parameter to control this behavior.\n",
      "  _warn_prf(average, modifier, msg_start, len(result))\n",
      "/opt/conda/lib/python3.10/site-packages/sklearn/metrics/_classification.py:1344: UndefinedMetricWarning: Precision and F-score are ill-defined and being set to 0.0 in labels with no predicted samples. Use `zero_division` parameter to control this behavior.\n",
      "  _warn_prf(average, modifier, msg_start, len(result))\n",
      "/opt/conda/lib/python3.10/site-packages/sklearn/metrics/_classification.py:1344: UndefinedMetricWarning: Precision and F-score are ill-defined and being set to 0.0 in labels with no predicted samples. Use `zero_division` parameter to control this behavior.\n",
      "  _warn_prf(average, modifier, msg_start, len(result))\n"
     ]
    }
   ],
   "source": [
    "from keras.callbacks import ReduceLROnPlateau, EarlyStopping, ModelCheckpoint\n",
    "from keras.optimizers import Adam, SGD\n",
    "from sklearn.metrics import classification_report\n",
    "import os\n",
    "\n",
    "# Define a list of learning rates and optimizers to try\n",
    "learning_rates = [0.001, 0.01, 0.1]\n",
    "optimizers = [Adam, SGD]\n",
    "\n",
    "best_model_path = 'best_model.keras'\n",
    "best_accuracy = 0\n",
    "best_hyperparameters = {}\n",
    "\n",
    "for lr in learning_rates:\n",
    "    for optimizer_class in optimizers:\n",
    "        # Instantiate the optimizer with the current learning rate\n",
    "        optimizer = optimizer_class(learning_rate=lr)\n",
    "        \n",
    "        # Compile the model with the optimizer and loss function\n",
    "        model.compile(optimizer=optimizer, loss='categorical_crossentropy', metrics=['accuracy'])\n",
    "        \n",
    "        # Add callbacks for learning rate reduction, early stopping, and model checkpoint\n",
    "        reduce_lr = ReduceLROnPlateau(monitor='val_loss', factor=0.2, patience=2, min_lr=1e-6)\n",
    "        early_stop = EarlyStopping(monitor='val_loss', patience=5, verbose=1, restore_best_weights=True)\n",
    "        checkpoint = ModelCheckpoint(best_model_path, monitor='val_loss', save_best_only=True, mode='min')\n",
    "        \n",
    "        # Fit the data to the model\n",
    "        history = model.fit(train_data, train_labels, batch_size=32, epochs=40, \n",
    "                            validation_data=(val_data, val_labels), \n",
    "                            callbacks=[reduce_lr, early_stop, checkpoint])\n",
    "        \n",
    "        # Evaluate the model on validation data\n",
    "        val_loss, _ = model.evaluate(val_data, val_labels)\n",
    "        \n",
    "        predictions = model.predict(test_data)\n",
    "        predicted_labels = tf.argmax(predictions, axis=1)\n",
    "        true_labels = tf.argmax(test_labels, axis=1)  # Assuming you have true labels for comparison\n",
    "        print('prediction complete')\n",
    "\n",
    "        # Calculate evaluation metrics\n",
    "        report = classification_report(true_labels, predicted_labels, output_dict=True)\n",
    "\n",
    "        f1_score = report['weighted avg']['f1-score']\n",
    "        precision = report['weighted avg']['precision']\n",
    "        positive_predictive_value = report['weighted avg']['precision']\n",
    "        specificity = report['weighted avg']['recall']\n",
    "        sensitivity = report['weighted avg']['recall']\n",
    "        accuracy = report['accuracy']\n",
    "        \n",
    "        \n",
    "        # Check if current model has the lowest validation loss\n",
    "        if best_accuracy < accuracy:\n",
    "            # Update best validation loss and hyperparameters\n",
    "            best_accuracy = accuracy\n",
    "            best_hyperparameters = {'learning_rate': lr, 'optimizer': optimizer_class.__name__}\n",
    "            # Remove previous best model if exists\n",
    "            if os.path.exists(best_model_path):\n",
    "                os.remove(best_model_path)\n",
    "                "
   ]
  },
  {
   "cell_type": "code",
   "execution_count": 8,
   "id": "cac954cd",
   "metadata": {
    "execution": {
     "iopub.execute_input": "2024-03-29T08:03:42.644079Z",
     "iopub.status.busy": "2024-03-29T08:03:42.643703Z",
     "iopub.status.idle": "2024-03-29T08:03:42.648939Z",
     "shell.execute_reply": "2024-03-29T08:03:42.648013Z"
    },
    "papermill": {
     "duration": 2.719437,
     "end_time": "2024-03-29T08:03:42.650912",
     "exception": false,
     "start_time": "2024-03-29T08:03:39.931475",
     "status": "completed"
    },
    "tags": []
   },
   "outputs": [
    {
     "name": "stdout",
     "output_type": "stream",
     "text": [
      "{'learning_rate': 0.1, 'optimizer': 'Adam'}\n",
      "0.7091969645486466\n"
     ]
    }
   ],
   "source": [
    "print(best_hyperparameters)\n",
    "print(best_accuracy)"
   ]
  },
  {
   "cell_type": "code",
   "execution_count": 9,
   "id": "e29ae4df",
   "metadata": {
    "execution": {
     "iopub.execute_input": "2024-03-29T08:03:47.746879Z",
     "iopub.status.busy": "2024-03-29T08:03:47.746513Z",
     "iopub.status.idle": "2024-03-29T08:03:47.751972Z",
     "shell.execute_reply": "2024-03-29T08:03:47.751047Z"
    },
    "papermill": {
     "duration": 2.501984,
     "end_time": "2024-03-29T08:03:47.753922",
     "exception": false,
     "start_time": "2024-03-29T08:03:45.251938",
     "status": "completed"
    },
    "tags": []
   },
   "outputs": [],
   "source": [
    "# import tensorflow as tf\n",
    "# from sklearn.metrics import classification_report\n",
    "\n",
    "# best_model = load_model(best_model_path)\n",
    "\n",
    "# with h5py.File('/kaggle/input/selectedmitbih/test_dataset.h5', 'r') as file:\n",
    "#     test_data = file['resized_dataset']\n",
    "#     test_labels = file['beat_type']\n",
    "#     test_data = np.array(test_data)\n",
    "#     test_labels = np.array(test_labels)\n",
    "    \n",
    "# test_labels = to_categorical(test_labels, num_classes=3)\n",
    "\n",
    "# print('start prediction')\n",
    "# # Evaluate the model on the test data\n",
    "# predictions = best_model.predict(test_data)\n",
    "# predicted_labels = tf.argmax(predictions, axis=1)\n",
    "# true_labels = tf.argmax(test_labels, axis=1)  # Assuming you have true labels for comparison\n",
    "# print('prediction complete')\n",
    "\n",
    "# # Calculate evaluation metrics\n",
    "# report = classification_report(true_labels, predicted_labels, output_dict=True)\n",
    "\n",
    "# f1_score = report['weighted avg']['f1-score']\n",
    "# precision = report['weighted avg']['precision']\n",
    "# positive_predictive_value = report['weighted avg']['precision']\n",
    "# specificity = report['weighted avg']['recall']\n",
    "# sensitivity = report['weighted avg']['recall']\n",
    "# accuracy = report['accuracy']\n",
    "\n",
    "# print(f\"F1 Score: {f1_score}\")\n",
    "# print(f\"Precision: {precision}\")\n",
    "# print(f\"Positive Predictive Value: {positive_predictive_value}\")\n",
    "# print(f\"Specificity: {specificity}\")\n",
    "# print(f\"Sensitivity: {sensitivity}\")\n",
    "# print(f\"Accuracy: {accuracy}\")"
   ]
  },
  {
   "cell_type": "code",
   "execution_count": 10,
   "id": "de3a51c3",
   "metadata": {
    "execution": {
     "iopub.execute_input": "2024-03-29T08:03:52.998779Z",
     "iopub.status.busy": "2024-03-29T08:03:52.998426Z",
     "iopub.status.idle": "2024-03-29T08:03:53.003031Z",
     "shell.execute_reply": "2024-03-29T08:03:53.002134Z"
    },
    "papermill": {
     "duration": 2.555926,
     "end_time": "2024-03-29T08:03:53.004978",
     "exception": false,
     "start_time": "2024-03-29T08:03:50.449052",
     "status": "completed"
    },
    "tags": []
   },
   "outputs": [],
   "source": [
    "# # Define optimizer with specified learning rate\n",
    "# learning_rate = 0.001\n",
    "# optimizer = Adam(learning_rate=learning_rate)\n",
    "\n",
    "# # Compile the model with the optimizer and loss function\n",
    "# model.compile(optimizer=optimizer, loss='categorical_crossentropy', metrics=['accuracy'])\n",
    "\n",
    "# # Add callbacks for learning rate reduction and early stopping based on validation loss\n",
    "# reduce_lr = ReduceLROnPlateau(monitor='val_loss', factor=0.2, patience=2, min_lr=1e-6)\n",
    "# early_stop = EarlyStopping(monitor='val_loss', patience=5, verbose=1, restore_best_weights=True)\n",
    "\n",
    "# # Fit the data to the model\n",
    "# history = model.fit(train_data, train_labels, batch_size=32, epochs=40, validation_data=(val_data, val_labels), callbacks=[reduce_lr, early_stop])"
   ]
  },
  {
   "cell_type": "code",
   "execution_count": 11,
   "id": "f2c2d78a",
   "metadata": {
    "execution": {
     "iopub.execute_input": "2024-03-29T08:03:58.196776Z",
     "iopub.status.busy": "2024-03-29T08:03:58.196413Z",
     "iopub.status.idle": "2024-03-29T08:03:58.200601Z",
     "shell.execute_reply": "2024-03-29T08:03:58.199657Z"
    },
    "papermill": {
     "duration": 2.548592,
     "end_time": "2024-03-29T08:03:58.202517",
     "exception": false,
     "start_time": "2024-03-29T08:03:55.653925",
     "status": "completed"
    },
    "tags": []
   },
   "outputs": [],
   "source": [
    "# # Access the best model\n",
    "# model = grid_result.best_estimator_.model\n",
    "\n",
    "# # Save the best model\n",
    "# model.save('best_model.h5')"
   ]
  },
  {
   "cell_type": "code",
   "execution_count": 12,
   "id": "f4c4b247",
   "metadata": {
    "execution": {
     "iopub.execute_input": "2024-03-29T08:04:03.477340Z",
     "iopub.status.busy": "2024-03-29T08:04:03.476951Z",
     "iopub.status.idle": "2024-03-29T08:04:03.481134Z",
     "shell.execute_reply": "2024-03-29T08:04:03.480311Z"
    },
    "papermill": {
     "duration": 2.612569,
     "end_time": "2024-03-29T08:04:03.482979",
     "exception": false,
     "start_time": "2024-03-29T08:04:00.870410",
     "status": "completed"
    },
    "tags": []
   },
   "outputs": [],
   "source": [
    "# !zip -r file.zip /kaggle/working"
   ]
  },
  {
   "cell_type": "code",
   "execution_count": 13,
   "id": "99d6458c",
   "metadata": {
    "execution": {
     "iopub.execute_input": "2024-03-29T08:04:08.712809Z",
     "iopub.status.busy": "2024-03-29T08:04:08.712452Z",
     "iopub.status.idle": "2024-03-29T08:04:08.716488Z",
     "shell.execute_reply": "2024-03-29T08:04:08.715587Z"
    },
    "papermill": {
     "duration": 2.654544,
     "end_time": "2024-03-29T08:04:08.718360",
     "exception": false,
     "start_time": "2024-03-29T08:04:06.063816",
     "status": "completed"
    },
    "tags": []
   },
   "outputs": [],
   "source": [
    "# !ls"
   ]
  },
  {
   "cell_type": "code",
   "execution_count": 14,
   "id": "28bdccd4",
   "metadata": {
    "execution": {
     "iopub.execute_input": "2024-03-29T08:04:13.845506Z",
     "iopub.status.busy": "2024-03-29T08:04:13.844777Z",
     "iopub.status.idle": "2024-03-29T08:04:13.848867Z",
     "shell.execute_reply": "2024-03-29T08:04:13.847986Z"
    },
    "papermill": {
     "duration": 2.633484,
     "end_time": "2024-03-29T08:04:13.850909",
     "exception": false,
     "start_time": "2024-03-29T08:04:11.217425",
     "status": "completed"
    },
    "tags": []
   },
   "outputs": [],
   "source": [
    "# from IPython.display import FileLink\n",
    "# FileLink(r'file.zip')"
   ]
  },
  {
   "cell_type": "code",
   "execution_count": null,
   "id": "73b566bb",
   "metadata": {
    "papermill": {
     "duration": 2.587237,
     "end_time": "2024-03-29T08:04:19.078516",
     "exception": false,
     "start_time": "2024-03-29T08:04:16.491279",
     "status": "completed"
    },
    "tags": []
   },
   "outputs": [],
   "source": []
  },
  {
   "cell_type": "code",
   "execution_count": 15,
   "id": "d01f7c3b",
   "metadata": {
    "execution": {
     "iopub.execute_input": "2024-03-29T08:04:24.312445Z",
     "iopub.status.busy": "2024-03-29T08:04:24.312052Z",
     "iopub.status.idle": "2024-03-29T08:04:24.317102Z",
     "shell.execute_reply": "2024-03-29T08:04:24.316298Z"
    },
    "papermill": {
     "duration": 2.690074,
     "end_time": "2024-03-29T08:04:24.318950",
     "exception": false,
     "start_time": "2024-03-29T08:04:21.628876",
     "status": "completed"
    },
    "tags": []
   },
   "outputs": [],
   "source": [
    "# import tensorflow as tf\n",
    "# from sklearn.metrics import classification_report\n",
    "# print('Read dataset complete')\n",
    "\n",
    "# with h5py.File('/kaggle/input/selectedmitbih/test_dataset.h5', 'r') as file:\n",
    "#     test_data = file['resized_dataset']\n",
    "#     test_labels = file['beat_type']\n",
    "#     test_data = np.array(test_data)\n",
    "#     test_labels = np.array(test_labels)\n",
    "    \n",
    "# test_labels = to_categorical(test_labels, num_classes=3)\n",
    "\n",
    "# print('start prediction')\n",
    "# # Evaluate the model on the test data\n",
    "# predictions = model.predict(test_data)\n",
    "# predicted_labels = tf.argmax(predictions, axis=1)\n",
    "# true_labels = tf.argmax(test_labels, axis=1)  # Assuming you have true labels for comparison\n",
    "# print('prediction complete')\n",
    "\n",
    "# # Calculate evaluation metrics\n",
    "# report = classification_report(true_labels, predicted_labels, output_dict=True)\n",
    "\n",
    "# f1_score = report['weighted avg']['f1-score']\n",
    "# precision = report['weighted avg']['precision']\n",
    "# positive_predictive_value = report['weighted avg']['precision']\n",
    "# specificity = report['weighted avg']['recall']\n",
    "# sensitivity = report['weighted avg']['recall']\n",
    "# accuracy = report['accuracy']\n",
    "\n",
    "# print(f\"F1 Score: {f1_score}\")\n",
    "# print(f\"Precision: {precision}\")\n",
    "# print(f\"Positive Predictive Value: {positive_predictive_value}\")\n",
    "# print(f\"Specificity: {specificity}\")\n",
    "# print(f\"Sensitivity: {sensitivity}\")\n",
    "# print(f\"Accuracy: {accuracy}\")"
   ]
  }
 ],
 "metadata": {
  "kaggle": {
   "accelerator": "gpu",
   "dataSources": [
    {
     "datasetId": 4666262,
     "sourceId": 7950641,
     "sourceType": "datasetVersion"
    }
   ],
   "dockerImageVersionId": 30673,
   "isGpuEnabled": true,
   "isInternetEnabled": true,
   "language": "python",
   "sourceType": "notebook"
  },
  "kernelspec": {
   "display_name": "Python 3",
   "language": "python",
   "name": "python3"
  },
  "language_info": {
   "codemirror_mode": {
    "name": "ipython",
    "version": 3
   },
   "file_extension": ".py",
   "mimetype": "text/x-python",
   "name": "python",
   "nbconvert_exporter": "python",
   "pygments_lexer": "ipython3",
   "version": "3.10.13"
  },
  "papermill": {
   "default_parameters": {},
   "duration": 5314.802253,
   "end_time": "2024-03-29T08:04:30.078649",
   "environment_variables": {},
   "exception": null,
   "input_path": "__notebook__.ipynb",
   "output_path": "__notebook__.ipynb",
   "parameters": {},
   "start_time": "2024-03-29T06:35:55.276396",
   "version": "2.5.0"
  }
 },
 "nbformat": 4,
 "nbformat_minor": 5
}
