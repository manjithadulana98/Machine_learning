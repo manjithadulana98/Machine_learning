{
 "cells": [
  {
   "cell_type": "code",
   "execution_count": 1,
   "id": "1f99573e",
   "metadata": {
    "_cell_guid": "b1076dfc-b9ad-4769-8c92-a6c4dae69d19",
    "_uuid": "8f2839f25d086af736a60e9eeb907d3b93b6e0e5",
    "execution": {
     "iopub.execute_input": "2024-03-29T06:01:14.064912Z",
     "iopub.status.busy": "2024-03-29T06:01:14.064563Z",
     "iopub.status.idle": "2024-03-29T06:01:14.829948Z",
     "shell.execute_reply": "2024-03-29T06:01:14.828947Z"
    },
    "papermill": {
     "duration": 0.77429,
     "end_time": "2024-03-29T06:01:14.832176",
     "exception": false,
     "start_time": "2024-03-29T06:01:14.057886",
     "status": "completed"
    },
    "tags": []
   },
   "outputs": [
    {
     "name": "stdout",
     "output_type": "stream",
     "text": [
      "/kaggle/input/selectedmitbih/resized_data.h5\n",
      "/kaggle/input/selectedmitbih/test_dataset.h5\n"
     ]
    }
   ],
   "source": [
    "# This Python 3 environment comes with many helpful analytics libraries installed\n",
    "# It is defined by the kaggle/python Docker image: https://github.com/kaggle/docker-python\n",
    "# For example, here's several helpful packages to load\n",
    "\n",
    "import numpy as np # linear algebra\n",
    "import pandas as pd # data processing, CSV file I/O (e.g. pd.read_csv)\n",
    "\n",
    "# Input data files are available in the read-only \"../input/\" directory\n",
    "# For example, running this (by clicking run or pressing Shift+Enter) will list all files under the input directory\n",
    "\n",
    "import os\n",
    "for dirname, _, filenames in os.walk('/kaggle/input'):\n",
    "    for filename in filenames:\n",
    "        print(os.path.join(dirname, filename))\n",
    "\n",
    "# You can write up to 20GB to the current directory (/kaggle/working/) that gets preserved as output when you create a version using \"Save & Run All\" \n",
    "# You can also write temporary files to /kaggle/temp/, but they won't be saved outside of the current session"
   ]
  },
  {
   "cell_type": "code",
   "execution_count": 2,
   "id": "55bd8935",
   "metadata": {
    "execution": {
     "iopub.execute_input": "2024-03-29T06:01:14.843553Z",
     "iopub.status.busy": "2024-03-29T06:01:14.843145Z",
     "iopub.status.idle": "2024-03-29T06:01:14.988823Z",
     "shell.execute_reply": "2024-03-29T06:01:14.988017Z"
    },
    "papermill": {
     "duration": 0.153702,
     "end_time": "2024-03-29T06:01:14.991104",
     "exception": false,
     "start_time": "2024-03-29T06:01:14.837402",
     "status": "completed"
    },
    "tags": []
   },
   "outputs": [],
   "source": [
    "import h5py\n",
    "import numpy as np"
   ]
  },
  {
   "cell_type": "code",
   "execution_count": 3,
   "id": "fd34137f",
   "metadata": {
    "execution": {
     "iopub.execute_input": "2024-03-29T06:01:15.002511Z",
     "iopub.status.busy": "2024-03-29T06:01:15.002200Z",
     "iopub.status.idle": "2024-03-29T06:01:37.762403Z",
     "shell.execute_reply": "2024-03-29T06:01:37.761440Z"
    },
    "papermill": {
     "duration": 22.768628,
     "end_time": "2024-03-29T06:01:37.764885",
     "exception": false,
     "start_time": "2024-03-29T06:01:14.996257",
     "status": "completed"
    },
    "tags": []
   },
   "outputs": [],
   "source": [
    "with h5py.File('/kaggle/input/selectedmitbih/resized_data.h5', 'r') as file:\n",
    "    train_data = file['resized_dataset']\n",
    "    train_labels = file['beat_type']\n",
    "    train_data = np.array(train_data)\n",
    "    train_labels = np.array(train_labels)\n"
   ]
  },
  {
   "cell_type": "code",
   "execution_count": 4,
   "id": "5f573e99",
   "metadata": {
    "execution": {
     "iopub.execute_input": "2024-03-29T06:01:37.776602Z",
     "iopub.status.busy": "2024-03-29T06:01:37.775770Z",
     "iopub.status.idle": "2024-03-29T06:01:50.848801Z",
     "shell.execute_reply": "2024-03-29T06:01:50.847982Z"
    },
    "papermill": {
     "duration": 13.081076,
     "end_time": "2024-03-29T06:01:50.851107",
     "exception": false,
     "start_time": "2024-03-29T06:01:37.770031",
     "status": "completed"
    },
    "tags": []
   },
   "outputs": [
    {
     "name": "stderr",
     "output_type": "stream",
     "text": [
      "2024-03-29 06:01:40.796281: E external/local_xla/xla/stream_executor/cuda/cuda_dnn.cc:9261] Unable to register cuDNN factory: Attempting to register factory for plugin cuDNN when one has already been registered\n",
      "2024-03-29 06:01:40.796384: E external/local_xla/xla/stream_executor/cuda/cuda_fft.cc:607] Unable to register cuFFT factory: Attempting to register factory for plugin cuFFT when one has already been registered\n",
      "2024-03-29 06:01:40.939119: E external/local_xla/xla/stream_executor/cuda/cuda_blas.cc:1515] Unable to register cuBLAS factory: Attempting to register factory for plugin cuBLAS when one has already been registered\n"
     ]
    }
   ],
   "source": [
    "from sklearn.model_selection import train_test_split\n",
    "import tensorflow as tf\n",
    "from tensorflow.keras.layers import Dense\n",
    "from tensorflow.keras.models import Model\n",
    "from tensorflow.keras.applications import ResNet50\n",
    "import numpy as np\n",
    "from tensorflow.keras.optimizers import Adam\n",
    "from imblearn.over_sampling import RandomOverSampler\n",
    "from tensorflow.keras.utils import to_categorical\n",
    "from tensorflow.keras.callbacks import ReduceLROnPlateau, EarlyStopping\n"
   ]
  },
  {
   "cell_type": "code",
   "execution_count": 5,
   "id": "b8373ff5",
   "metadata": {
    "execution": {
     "iopub.execute_input": "2024-03-29T06:01:50.863432Z",
     "iopub.status.busy": "2024-03-29T06:01:50.862346Z",
     "iopub.status.idle": "2024-03-29T06:01:55.909261Z",
     "shell.execute_reply": "2024-03-29T06:01:55.908496Z"
    },
    "papermill": {
     "duration": 5.055107,
     "end_time": "2024-03-29T06:01:55.911560",
     "exception": false,
     "start_time": "2024-03-29T06:01:50.856453",
     "status": "completed"
    },
    "tags": []
   },
   "outputs": [
    {
     "name": "stdout",
     "output_type": "stream",
     "text": [
      "Downloading data from https://storage.googleapis.com/tensorflow/keras-applications/resnet/resnet50_weights_tf_dim_ordering_tf_kernels_notop.h5\n",
      "\u001b[1m94765736/94765736\u001b[0m \u001b[32m━━━━━━━━━━━━━━━━━━━━\u001b[0m\u001b[37m\u001b[0m \u001b[1m0s\u001b[0m 0us/step\n"
     ]
    }
   ],
   "source": [
    "ros = RandomOverSampler()\n",
    "train_data, train_labels = ros.fit_resample(train_data.reshape(-1, 224*224*3), train_labels)\n",
    "train_data = train_data.reshape(-1, 224, 224, 3)\n",
    "\n",
    "# Split the data into train and validation sets\n",
    "train_data, val_data, train_labels, val_labels = train_test_split(train_data, train_labels, test_size=0.2, random_state=42)\n",
    "\n",
    "# Define the number of classes\n",
    "num_classes = 3\n",
    "train_labels = to_categorical(train_labels, num_classes=num_classes)\n",
    "val_labels =  to_categorical(val_labels, num_classes=num_classes)\n",
    "\n",
    "# Load pre-trained ResNet50 model with weights from ImageNet\n",
    "base_model = ResNet50(weights='imagenet', include_top=False, input_shape=(224, 224, 3))\n",
    "\n",
    "# Freeze the base model layers\n",
    "for layer in base_model.layers:\n",
    "    layer.trainable = True\n",
    "\n",
    "# Add new fully-connected layers\n",
    "x = base_model.output\n",
    "x = tf.keras.layers.GlobalAveragePooling2D()(x)  # Global average pooling to reduce dimensions\n",
    "x = Dense(1024, activation='relu')(x)  # Add new fully-connected layer\n",
    "x = Dense(512, activation='relu')(x)  # Add another fully-connected layer\n",
    "predictions = Dense(num_classes, activation='softmax')(x)  # Add softmax layer for classification\n",
    "\n",
    "model = Model(inputs=base_model.input, outputs=predictions)"
   ]
  },
  {
   "cell_type": "code",
   "execution_count": 6,
   "id": "323a024a",
   "metadata": {
    "execution": {
     "iopub.execute_input": "2024-03-29T06:01:55.925052Z",
     "iopub.status.busy": "2024-03-29T06:01:55.924739Z",
     "iopub.status.idle": "2024-03-29T06:03:07.291702Z",
     "shell.execute_reply": "2024-03-29T06:03:07.290921Z"
    },
    "papermill": {
     "duration": 71.376302,
     "end_time": "2024-03-29T06:03:07.294052",
     "exception": false,
     "start_time": "2024-03-29T06:01:55.917750",
     "status": "completed"
    },
    "tags": []
   },
   "outputs": [],
   "source": [
    "with h5py.File('/kaggle/input/selectedmitbih/test_dataset.h5', 'r') as file:\n",
    "    test_data = file['resized_dataset']\n",
    "    test_labels = file['beat_type']\n",
    "    test_data = np.array(test_data)\n",
    "    test_labels = np.array(test_labels)\n",
    "    \n",
    "test_labels = to_categorical(test_labels, num_classes=3)\n"
   ]
  },
  {
   "cell_type": "code",
   "execution_count": 7,
   "id": "fe461245",
   "metadata": {
    "execution": {
     "iopub.execute_input": "2024-03-29T06:03:07.307876Z",
     "iopub.status.busy": "2024-03-29T06:03:07.307029Z",
     "iopub.status.idle": "2024-03-29T06:29:51.552853Z",
     "shell.execute_reply": "2024-03-29T06:29:51.551686Z"
    },
    "papermill": {
     "duration": 1604.255586,
     "end_time": "2024-03-29T06:29:51.555847",
     "exception": false,
     "start_time": "2024-03-29T06:03:07.300261",
     "status": "completed"
    },
    "tags": []
   },
   "outputs": [
    {
     "name": "stdout",
     "output_type": "stream",
     "text": [
      "Epoch 1/2\n"
     ]
    },
    {
     "name": "stderr",
     "output_type": "stream",
     "text": [
      "WARNING: All log messages before absl::InitializeLog() is called are written to STDERR\n",
      "I0000 00:00:1711692259.692923      69 device_compiler.h:186] Compiled cluster using XLA!  This line is logged at most once for the lifetime of the process.\n"
     ]
    },
    {
     "name": "stdout",
     "output_type": "stream",
     "text": [
      "\u001b[1m416/416\u001b[0m \u001b[32m━━━━━━━━━━━━━━━━━━━━\u001b[0m\u001b[37m\u001b[0m \u001b[1m175s\u001b[0m 258ms/step - accuracy: 0.9441 - loss: 0.2182 - val_accuracy: 0.9910 - val_loss: 0.0449 - learning_rate: 0.0010\n",
      "Epoch 2/2\n",
      "\u001b[1m416/416\u001b[0m \u001b[32m━━━━━━━━━━━━━━━━━━━━\u001b[0m\u001b[37m\u001b[0m \u001b[1m65s\u001b[0m 157ms/step - accuracy: 0.9923 - loss: 0.0276 - val_accuracy: 0.7673 - val_loss: 1.9042 - learning_rate: 0.0010\n",
      "Restoring model weights from the end of the best epoch: 1.\n",
      "\u001b[1m104/104\u001b[0m \u001b[32m━━━━━━━━━━━━━━━━━━━━\u001b[0m\u001b[37m\u001b[0m \u001b[1m4s\u001b[0m 42ms/step - accuracy: 0.9899 - loss: 0.0404\n",
      "\u001b[1m1104/1104\u001b[0m \u001b[32m━━━━━━━━━━━━━━━━━━━━\u001b[0m\u001b[37m\u001b[0m \u001b[1m48s\u001b[0m 40ms/step\n",
      "prediction complete\n",
      "Epoch 1/2\n",
      "\u001b[1m416/416\u001b[0m \u001b[32m━━━━━━━━━━━━━━━━━━━━\u001b[0m\u001b[37m\u001b[0m \u001b[1m107s\u001b[0m 198ms/step - accuracy: 0.9933 - loss: 0.0310 - val_accuracy: 0.9916 - val_loss: 0.0321 - learning_rate: 0.0010\n",
      "Epoch 2/2\n",
      "\u001b[1m416/416\u001b[0m \u001b[32m━━━━━━━━━━━━━━━━━━━━\u001b[0m\u001b[37m\u001b[0m \u001b[1m63s\u001b[0m 151ms/step - accuracy: 0.9946 - loss: 0.0228 - val_accuracy: 0.9919 - val_loss: 0.0284 - learning_rate: 0.0010\n",
      "Restoring model weights from the end of the best epoch: 2.\n",
      "\u001b[1m104/104\u001b[0m \u001b[32m━━━━━━━━━━━━━━━━━━━━\u001b[0m\u001b[37m\u001b[0m \u001b[1m4s\u001b[0m 43ms/step - accuracy: 0.9918 - loss: 0.0276\n",
      "\u001b[1m1104/1104\u001b[0m \u001b[32m━━━━━━━━━━━━━━━━━━━━\u001b[0m\u001b[37m\u001b[0m \u001b[1m48s\u001b[0m 41ms/step\n",
      "prediction complete\n",
      "Epoch 1/2\n",
      "\u001b[1m416/416\u001b[0m \u001b[32m━━━━━━━━━━━━━━━━━━━━\u001b[0m\u001b[37m\u001b[0m \u001b[1m145s\u001b[0m 223ms/step - accuracy: 0.8813 - loss: 0.8150 - val_accuracy: 0.8452 - val_loss: 0.7187 - learning_rate: 0.0100\n",
      "Epoch 2/2\n",
      "\u001b[1m416/416\u001b[0m \u001b[32m━━━━━━━━━━━━━━━━━━━━\u001b[0m\u001b[37m\u001b[0m \u001b[1m67s\u001b[0m 161ms/step - accuracy: 0.9659 - loss: 0.1561 - val_accuracy: 0.9759 - val_loss: 0.0773 - learning_rate: 0.0100\n",
      "Restoring model weights from the end of the best epoch: 2.\n",
      "\u001b[1m104/104\u001b[0m \u001b[32m━━━━━━━━━━━━━━━━━━━━\u001b[0m\u001b[37m\u001b[0m \u001b[1m4s\u001b[0m 43ms/step - accuracy: 0.9749 - loss: 0.0856\n",
      "\u001b[1m1104/1104\u001b[0m \u001b[32m━━━━━━━━━━━━━━━━━━━━\u001b[0m\u001b[37m\u001b[0m \u001b[1m48s\u001b[0m 41ms/step\n",
      "prediction complete\n",
      "Epoch 1/2\n",
      "\u001b[1m416/416\u001b[0m \u001b[32m━━━━━━━━━━━━━━━━━━━━\u001b[0m\u001b[37m\u001b[0m \u001b[1m108s\u001b[0m 201ms/step - accuracy: 0.9895 - loss: 0.0394 - val_accuracy: 0.9919 - val_loss: 0.0371 - learning_rate: 0.0100\n",
      "Epoch 2/2\n",
      "\u001b[1m416/416\u001b[0m \u001b[32m━━━━━━━━━━━━━━━━━━━━\u001b[0m\u001b[37m\u001b[0m \u001b[1m63s\u001b[0m 152ms/step - accuracy: 0.9909 - loss: 0.0348 - val_accuracy: 0.9919 - val_loss: 0.0340 - learning_rate: 0.0100\n",
      "Restoring model weights from the end of the best epoch: 2.\n",
      "\u001b[1m104/104\u001b[0m \u001b[32m━━━━━━━━━━━━━━━━━━━━\u001b[0m\u001b[37m\u001b[0m \u001b[1m4s\u001b[0m 43ms/step - accuracy: 0.9918 - loss: 0.0351\n",
      "\u001b[1m1104/1104\u001b[0m \u001b[32m━━━━━━━━━━━━━━━━━━━━\u001b[0m\u001b[37m\u001b[0m \u001b[1m48s\u001b[0m 40ms/step\n",
      "prediction complete\n",
      "Epoch 1/2\n",
      "\u001b[1m416/416\u001b[0m \u001b[32m━━━━━━━━━━━━━━━━━━━━\u001b[0m\u001b[37m\u001b[0m \u001b[1m143s\u001b[0m 223ms/step - accuracy: 0.5491 - loss: 4.1322 - val_accuracy: 0.3443 - val_loss: 1.1033 - learning_rate: 0.1000\n",
      "Epoch 2/2\n",
      "\u001b[1m416/416\u001b[0m \u001b[32m━━━━━━━━━━━━━━━━━━━━\u001b[0m\u001b[37m\u001b[0m \u001b[1m66s\u001b[0m 158ms/step - accuracy: 0.3410 - loss: 1.1012 - val_accuracy: 0.3307 - val_loss: 1.1109 - learning_rate: 0.1000\n",
      "Restoring model weights from the end of the best epoch: 1.\n",
      "\u001b[1m104/104\u001b[0m \u001b[32m━━━━━━━━━━━━━━━━━━━━\u001b[0m\u001b[37m\u001b[0m \u001b[1m4s\u001b[0m 42ms/step - accuracy: 0.3488 - loss: 1.1020\n",
      "\u001b[1m1104/1104\u001b[0m \u001b[32m━━━━━━━━━━━━━━━━━━━━\u001b[0m\u001b[37m\u001b[0m \u001b[1m48s\u001b[0m 40ms/step\n",
      "prediction complete\n"
     ]
    },
    {
     "name": "stderr",
     "output_type": "stream",
     "text": [
      "/opt/conda/lib/python3.10/site-packages/sklearn/metrics/_classification.py:1344: UndefinedMetricWarning: Precision and F-score are ill-defined and being set to 0.0 in labels with no predicted samples. Use `zero_division` parameter to control this behavior.\n",
      "  _warn_prf(average, modifier, msg_start, len(result))\n",
      "/opt/conda/lib/python3.10/site-packages/sklearn/metrics/_classification.py:1344: UndefinedMetricWarning: Precision and F-score are ill-defined and being set to 0.0 in labels with no predicted samples. Use `zero_division` parameter to control this behavior.\n",
      "  _warn_prf(average, modifier, msg_start, len(result))\n",
      "/opt/conda/lib/python3.10/site-packages/sklearn/metrics/_classification.py:1344: UndefinedMetricWarning: Precision and F-score are ill-defined and being set to 0.0 in labels with no predicted samples. Use `zero_division` parameter to control this behavior.\n",
      "  _warn_prf(average, modifier, msg_start, len(result))\n"
     ]
    },
    {
     "name": "stdout",
     "output_type": "stream",
     "text": [
      "Epoch 1/2\n",
      "\u001b[1m416/416\u001b[0m \u001b[32m━━━━━━━━━━━━━━━━━━━━\u001b[0m\u001b[37m\u001b[0m \u001b[1m107s\u001b[0m 195ms/step - accuracy: 0.3192 - loss: 1.1006 - val_accuracy: 0.3307 - val_loss: 1.0991 - learning_rate: 0.1000\n",
      "Epoch 2/2\n",
      "\u001b[1m416/416\u001b[0m \u001b[32m━━━━━━━━━━━━━━━━━━━━\u001b[0m\u001b[37m\u001b[0m \u001b[1m63s\u001b[0m 151ms/step - accuracy: 0.3301 - loss: 1.0992 - val_accuracy: 0.3443 - val_loss: 1.0987 - learning_rate: 0.1000\n",
      "Restoring model weights from the end of the best epoch: 2.\n",
      "\u001b[1m104/104\u001b[0m \u001b[32m━━━━━━━━━━━━━━━━━━━━\u001b[0m\u001b[37m\u001b[0m \u001b[1m4s\u001b[0m 42ms/step - accuracy: 0.3488 - loss: 1.0982\n",
      "\u001b[1m1104/1104\u001b[0m \u001b[32m━━━━━━━━━━━━━━━━━━━━\u001b[0m\u001b[37m\u001b[0m \u001b[1m48s\u001b[0m 40ms/step\n",
      "prediction complete\n"
     ]
    },
    {
     "name": "stderr",
     "output_type": "stream",
     "text": [
      "/opt/conda/lib/python3.10/site-packages/sklearn/metrics/_classification.py:1344: UndefinedMetricWarning: Precision and F-score are ill-defined and being set to 0.0 in labels with no predicted samples. Use `zero_division` parameter to control this behavior.\n",
      "  _warn_prf(average, modifier, msg_start, len(result))\n",
      "/opt/conda/lib/python3.10/site-packages/sklearn/metrics/_classification.py:1344: UndefinedMetricWarning: Precision and F-score are ill-defined and being set to 0.0 in labels with no predicted samples. Use `zero_division` parameter to control this behavior.\n",
      "  _warn_prf(average, modifier, msg_start, len(result))\n",
      "/opt/conda/lib/python3.10/site-packages/sklearn/metrics/_classification.py:1344: UndefinedMetricWarning: Precision and F-score are ill-defined and being set to 0.0 in labels with no predicted samples. Use `zero_division` parameter to control this behavior.\n",
      "  _warn_prf(average, modifier, msg_start, len(result))\n"
     ]
    }
   ],
   "source": [
    "from keras.callbacks import ReduceLROnPlateau, EarlyStopping, ModelCheckpoint\n",
    "from keras.optimizers import Adam, SGD\n",
    "from sklearn.metrics import classification_report\n",
    "import os\n",
    "\n",
    "# Define a list of learning rates and optimizers to try\n",
    "learning_rates = [0.001, 0.01, 0.1]\n",
    "optimizers = [Adam, SGD]\n",
    "\n",
    "best_model_path = 'best_model.keras'\n",
    "best_accuracy = 0\n",
    "best_hyperparameters = {}\n",
    "\n",
    "for lr in learning_rates:\n",
    "    for optimizer_class in optimizers:\n",
    "        # Instantiate the optimizer with the current learning rate\n",
    "        optimizer = optimizer_class(learning_rate=lr)\n",
    "        \n",
    "        # Compile the model with the optimizer and loss function\n",
    "        model.compile(optimizer=optimizer, loss='categorical_crossentropy', metrics=['accuracy'])\n",
    "        \n",
    "        # Add callbacks for learning rate reduction, early stopping, and model checkpoint\n",
    "        reduce_lr = ReduceLROnPlateau(monitor='val_loss', factor=0.2, patience=2, min_lr=1e-6)\n",
    "        early_stop = EarlyStopping(monitor='val_loss', patience=5, verbose=1, restore_best_weights=True)\n",
    "        checkpoint = ModelCheckpoint(best_model_path, monitor='val_loss', save_best_only=True, mode='min')\n",
    "        \n",
    "        # Fit the data to the model\n",
    "        history = model.fit(train_data, train_labels, batch_size=32, epochs=2, \n",
    "                            validation_data=(val_data, val_labels), \n",
    "                            callbacks=[reduce_lr, early_stop, checkpoint])\n",
    "        \n",
    "        # Evaluate the model on validation data\n",
    "        val_loss, _ = model.evaluate(val_data, val_labels)\n",
    "        \n",
    "        predictions = model.predict(test_data)\n",
    "        predicted_labels = tf.argmax(predictions, axis=1)\n",
    "        true_labels = tf.argmax(test_labels, axis=1)  # Assuming you have true labels for comparison\n",
    "        print('prediction complete')\n",
    "\n",
    "        # Calculate evaluation metrics\n",
    "        report = classification_report(true_labels, predicted_labels, output_dict=True)\n",
    "\n",
    "        f1_score = report['weighted avg']['f1-score']\n",
    "        precision = report['weighted avg']['precision']\n",
    "        positive_predictive_value = report['weighted avg']['precision']\n",
    "        specificity = report['weighted avg']['recall']\n",
    "        sensitivity = report['weighted avg']['recall']\n",
    "        accuracy = report['accuracy']\n",
    "        \n",
    "        \n",
    "        # Check if current model has the lowest validation loss\n",
    "        if best_accuracy < accuracy:\n",
    "            # Update best validation loss and hyperparameters\n",
    "            best_accuracy = accuracy\n",
    "            best_hyperparameters = {'learning_rate': lr, 'optimizer': optimizer_class.__name__}\n",
    "            # Remove previous best model if exists\n",
    "            if os.path.exists(best_model_path):\n",
    "                os.remove(best_model_path)\n",
    "                "
   ]
  },
  {
   "cell_type": "code",
   "execution_count": 8,
   "id": "5968d973",
   "metadata": {
    "execution": {
     "iopub.execute_input": "2024-03-29T06:29:52.979192Z",
     "iopub.status.busy": "2024-03-29T06:29:52.978835Z",
     "iopub.status.idle": "2024-03-29T06:29:52.983896Z",
     "shell.execute_reply": "2024-03-29T06:29:52.982960Z"
    },
    "papermill": {
     "duration": 0.702834,
     "end_time": "2024-03-29T06:29:52.986171",
     "exception": false,
     "start_time": "2024-03-29T06:29:52.283337",
     "status": "completed"
    },
    "tags": []
   },
   "outputs": [
    {
     "name": "stdout",
     "output_type": "stream",
     "text": [
      "{'learning_rate': 0.01, 'optimizer': 'SGD'}\n",
      "0.803799977347378\n"
     ]
    }
   ],
   "source": [
    "print(best_hyperparameters)\n",
    "print(best_accuracy)"
   ]
  },
  {
   "cell_type": "code",
   "execution_count": 9,
   "id": "aefa6e6e",
   "metadata": {
    "execution": {
     "iopub.execute_input": "2024-03-29T06:29:54.428385Z",
     "iopub.status.busy": "2024-03-29T06:29:54.427531Z",
     "iopub.status.idle": "2024-03-29T06:29:54.432947Z",
     "shell.execute_reply": "2024-03-29T06:29:54.432058Z"
    },
    "papermill": {
     "duration": 0.700993,
     "end_time": "2024-03-29T06:29:54.434887",
     "exception": false,
     "start_time": "2024-03-29T06:29:53.733894",
     "status": "completed"
    },
    "tags": []
   },
   "outputs": [],
   "source": [
    "# import tensorflow as tf\n",
    "# from sklearn.metrics import classification_report\n",
    "\n",
    "# best_model = load_model(best_model_path)\n",
    "\n",
    "# with h5py.File('/kaggle/input/selectedmitbih/test_dataset.h5', 'r') as file:\n",
    "#     test_data = file['resized_dataset']\n",
    "#     test_labels = file['beat_type']\n",
    "#     test_data = np.array(test_data)\n",
    "#     test_labels = np.array(test_labels)\n",
    "    \n",
    "# test_labels = to_categorical(test_labels, num_classes=3)\n",
    "\n",
    "# print('start prediction')\n",
    "# # Evaluate the model on the test data\n",
    "# predictions = best_model.predict(test_data)\n",
    "# predicted_labels = tf.argmax(predictions, axis=1)\n",
    "# true_labels = tf.argmax(test_labels, axis=1)  # Assuming you have true labels for comparison\n",
    "# print('prediction complete')\n",
    "\n",
    "# # Calculate evaluation metrics\n",
    "# report = classification_report(true_labels, predicted_labels, output_dict=True)\n",
    "\n",
    "# f1_score = report['weighted avg']['f1-score']\n",
    "# precision = report['weighted avg']['precision']\n",
    "# positive_predictive_value = report['weighted avg']['precision']\n",
    "# specificity = report['weighted avg']['recall']\n",
    "# sensitivity = report['weighted avg']['recall']\n",
    "# accuracy = report['accuracy']\n",
    "\n",
    "# print(f\"F1 Score: {f1_score}\")\n",
    "# print(f\"Precision: {precision}\")\n",
    "# print(f\"Positive Predictive Value: {positive_predictive_value}\")\n",
    "# print(f\"Specificity: {specificity}\")\n",
    "# print(f\"Sensitivity: {sensitivity}\")\n",
    "# print(f\"Accuracy: {accuracy}\")"
   ]
  },
  {
   "cell_type": "code",
   "execution_count": 10,
   "id": "fbf1165f",
   "metadata": {
    "execution": {
     "iopub.execute_input": "2024-03-29T06:29:55.874520Z",
     "iopub.status.busy": "2024-03-29T06:29:55.874154Z",
     "iopub.status.idle": "2024-03-29T06:29:55.878718Z",
     "shell.execute_reply": "2024-03-29T06:29:55.877834Z"
    },
    "papermill": {
     "duration": 0.702921,
     "end_time": "2024-03-29T06:29:55.880589",
     "exception": false,
     "start_time": "2024-03-29T06:29:55.177668",
     "status": "completed"
    },
    "tags": []
   },
   "outputs": [],
   "source": [
    "# # Define optimizer with specified learning rate\n",
    "# learning_rate = 0.001\n",
    "# optimizer = Adam(learning_rate=learning_rate)\n",
    "\n",
    "# # Compile the model with the optimizer and loss function\n",
    "# model.compile(optimizer=optimizer, loss='categorical_crossentropy', metrics=['accuracy'])\n",
    "\n",
    "# # Add callbacks for learning rate reduction and early stopping based on validation loss\n",
    "# reduce_lr = ReduceLROnPlateau(monitor='val_loss', factor=0.2, patience=2, min_lr=1e-6)\n",
    "# early_stop = EarlyStopping(monitor='val_loss', patience=5, verbose=1, restore_best_weights=True)\n",
    "\n",
    "# # Fit the data to the model\n",
    "# history = model.fit(train_data, train_labels, batch_size=32, epochs=40, validation_data=(val_data, val_labels), callbacks=[reduce_lr, early_stop])"
   ]
  },
  {
   "cell_type": "code",
   "execution_count": 11,
   "id": "6abfc168",
   "metadata": {
    "execution": {
     "iopub.execute_input": "2024-03-29T06:29:57.354273Z",
     "iopub.status.busy": "2024-03-29T06:29:57.353880Z",
     "iopub.status.idle": "2024-03-29T06:29:57.358630Z",
     "shell.execute_reply": "2024-03-29T06:29:57.357632Z"
    },
    "papermill": {
     "duration": 0.759985,
     "end_time": "2024-03-29T06:29:57.360627",
     "exception": false,
     "start_time": "2024-03-29T06:29:56.600642",
     "status": "completed"
    },
    "tags": []
   },
   "outputs": [],
   "source": [
    "# # Access the best model\n",
    "# model = grid_result.best_estimator_.model\n",
    "\n",
    "# # Save the best model\n",
    "# model.save('best_model.h5')"
   ]
  },
  {
   "cell_type": "code",
   "execution_count": 12,
   "id": "906fbd20",
   "metadata": {
    "execution": {
     "iopub.execute_input": "2024-03-29T06:29:58.765148Z",
     "iopub.status.busy": "2024-03-29T06:29:58.764787Z",
     "iopub.status.idle": "2024-03-29T06:29:58.768947Z",
     "shell.execute_reply": "2024-03-29T06:29:58.768039Z"
    },
    "papermill": {
     "duration": 0.714964,
     "end_time": "2024-03-29T06:29:58.770782",
     "exception": false,
     "start_time": "2024-03-29T06:29:58.055818",
     "status": "completed"
    },
    "tags": []
   },
   "outputs": [],
   "source": [
    "# !zip -r file.zip /kaggle/working"
   ]
  },
  {
   "cell_type": "code",
   "execution_count": 13,
   "id": "bf8e515b",
   "metadata": {
    "execution": {
     "iopub.execute_input": "2024-03-29T06:30:00.160602Z",
     "iopub.status.busy": "2024-03-29T06:30:00.160219Z",
     "iopub.status.idle": "2024-03-29T06:30:00.164295Z",
     "shell.execute_reply": "2024-03-29T06:30:00.163398Z"
    },
    "papermill": {
     "duration": 0.699991,
     "end_time": "2024-03-29T06:30:00.166335",
     "exception": false,
     "start_time": "2024-03-29T06:29:59.466344",
     "status": "completed"
    },
    "tags": []
   },
   "outputs": [],
   "source": [
    "# !ls"
   ]
  },
  {
   "cell_type": "code",
   "execution_count": 14,
   "id": "bb74fca7",
   "metadata": {
    "execution": {
     "iopub.execute_input": "2024-03-29T06:30:01.601886Z",
     "iopub.status.busy": "2024-03-29T06:30:01.601531Z",
     "iopub.status.idle": "2024-03-29T06:30:01.605713Z",
     "shell.execute_reply": "2024-03-29T06:30:01.604768Z"
    },
    "papermill": {
     "duration": 0.703135,
     "end_time": "2024-03-29T06:30:01.607613",
     "exception": false,
     "start_time": "2024-03-29T06:30:00.904478",
     "status": "completed"
    },
    "tags": []
   },
   "outputs": [],
   "source": [
    "# from IPython.display import FileLink\n",
    "# FileLink(r'file.zip')"
   ]
  },
  {
   "cell_type": "code",
   "execution_count": null,
   "id": "ec0c3edf",
   "metadata": {
    "papermill": {
     "duration": 0.715393,
     "end_time": "2024-03-29T06:30:03.063738",
     "exception": false,
     "start_time": "2024-03-29T06:30:02.348345",
     "status": "completed"
    },
    "tags": []
   },
   "outputs": [],
   "source": []
  },
  {
   "cell_type": "code",
   "execution_count": 15,
   "id": "a8fd25ab",
   "metadata": {
    "execution": {
     "iopub.execute_input": "2024-03-29T06:30:04.492271Z",
     "iopub.status.busy": "2024-03-29T06:30:04.491913Z",
     "iopub.status.idle": "2024-03-29T06:30:04.497258Z",
     "shell.execute_reply": "2024-03-29T06:30:04.496414Z"
    },
    "papermill": {
     "duration": 0.711241,
     "end_time": "2024-03-29T06:30:04.499104",
     "exception": false,
     "start_time": "2024-03-29T06:30:03.787863",
     "status": "completed"
    },
    "tags": []
   },
   "outputs": [],
   "source": [
    "# import tensorflow as tf\n",
    "# from sklearn.metrics import classification_report\n",
    "# print('Read dataset complete')\n",
    "\n",
    "# with h5py.File('/kaggle/input/selectedmitbih/test_dataset.h5', 'r') as file:\n",
    "#     test_data = file['resized_dataset']\n",
    "#     test_labels = file['beat_type']\n",
    "#     test_data = np.array(test_data)\n",
    "#     test_labels = np.array(test_labels)\n",
    "    \n",
    "# test_labels = to_categorical(test_labels, num_classes=3)\n",
    "\n",
    "# print('start prediction')\n",
    "# # Evaluate the model on the test data\n",
    "# predictions = model.predict(test_data)\n",
    "# predicted_labels = tf.argmax(predictions, axis=1)\n",
    "# true_labels = tf.argmax(test_labels, axis=1)  # Assuming you have true labels for comparison\n",
    "# print('prediction complete')\n",
    "\n",
    "# # Calculate evaluation metrics\n",
    "# report = classification_report(true_labels, predicted_labels, output_dict=True)\n",
    "\n",
    "# f1_score = report['weighted avg']['f1-score']\n",
    "# precision = report['weighted avg']['precision']\n",
    "# positive_predictive_value = report['weighted avg']['precision']\n",
    "# specificity = report['weighted avg']['recall']\n",
    "# sensitivity = report['weighted avg']['recall']\n",
    "# accuracy = report['accuracy']\n",
    "\n",
    "# print(f\"F1 Score: {f1_score}\")\n",
    "# print(f\"Precision: {precision}\")\n",
    "# print(f\"Positive Predictive Value: {positive_predictive_value}\")\n",
    "# print(f\"Specificity: {specificity}\")\n",
    "# print(f\"Sensitivity: {sensitivity}\")\n",
    "# print(f\"Accuracy: {accuracy}\")"
   ]
  }
 ],
 "metadata": {
  "kaggle": {
   "accelerator": "gpu",
   "dataSources": [
    {
     "datasetId": 4666262,
     "sourceId": 7950641,
     "sourceType": "datasetVersion"
    }
   ],
   "dockerImageVersionId": 30673,
   "isGpuEnabled": true,
   "isInternetEnabled": true,
   "language": "python",
   "sourceType": "notebook"
  },
  "kernelspec": {
   "display_name": "Python 3",
   "language": "python",
   "name": "python3"
  },
  "language_info": {
   "codemirror_mode": {
    "name": "ipython",
    "version": 3
   },
   "file_extension": ".py",
   "mimetype": "text/x-python",
   "name": "python",
   "nbconvert_exporter": "python",
   "pygments_lexer": "ipython3",
   "version": "3.10.13"
  },
  "papermill": {
   "default_parameters": {},
   "duration": 1737.358542,
   "end_time": "2024-03-29T06:30:08.585653",
   "environment_variables": {},
   "exception": null,
   "input_path": "__notebook__.ipynb",
   "output_path": "__notebook__.ipynb",
   "parameters": {},
   "start_time": "2024-03-29T06:01:11.227111",
   "version": "2.5.0"
  }
 },
 "nbformat": 4,
 "nbformat_minor": 5
}
